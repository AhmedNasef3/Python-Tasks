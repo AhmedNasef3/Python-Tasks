{
 "cells": [
  {
   "cell_type": "code",
   "execution_count": 7,
   "id": "5f704eb5",
   "metadata": {},
   "outputs": [
    {
     "name": "stdout",
     "output_type": "stream",
     "text": [
      "The values are 5 , 10\n",
      "The values are 70 , 20\n",
      "The values are 0 , 0\n"
     ]
    }
   ],
   "source": [
    "def display(x=0,y=0):\n",
    "   return f\"The values are {x} , {y}\"\n",
    "    \n",
    "print(display(5,10))\n",
    "\n",
    "print(display(y=20,x=70))\n",
    "\n",
    "print(display())"
   ]
  },
  {
   "cell_type": "code",
   "execution_count": 10,
   "id": "d66b5d5a",
   "metadata": {},
   "outputs": [
    {
     "name": "stdout",
     "output_type": "stream",
     "text": [
      "374\n"
     ]
    }
   ],
   "source": [
    "def mysum(*numbers):\n",
    "    sum=0\n",
    "    for num in numbers:\n",
    "        sum+=num\n",
    "    return sum\n",
    "\n",
    "print(mysum(1,2,3,1,6,9,10,2,100,32,1,4,5,3,2,193))"
   ]
  },
  {
   "cell_type": "code",
   "execution_count": 35,
   "id": "860127c3",
   "metadata": {},
   "outputs": [
    {
     "name": "stdout",
     "output_type": "stream",
     "text": [
      "36\n"
     ]
    }
   ],
   "source": [
    "lst=[1,2,3,4,5,6,7,8]\n",
    "mysum=(lambda numbers:numbers[0] if len(numbers)==1 else numbers[0] + mysum(numbers[1:]))\n",
    "\n",
    "print(mysum(lst))\n"
   ]
  },
  {
   "cell_type": "code",
   "execution_count": 36,
   "id": "a03e8cc7",
   "metadata": {},
   "outputs": [
    {
     "name": "stdout",
     "output_type": "stream",
     "text": [
      "36\n"
     ]
    }
   ],
   "source": [
    "lst=[1,2,3,4,5,6,7,8]\n",
    "mysum=(lambda numbers:numbers[0] if len(numbers)==1 else numbers[0] + mysum(numbers[1:]))(lst)\n",
    "\n",
    "print(mysum)"
   ]
  },
  {
   "cell_type": "code",
   "execution_count": 37,
   "id": "02585921",
   "metadata": {},
   "outputs": [
    {
     "name": "stdout",
     "output_type": "stream",
     "text": [
      "2\n",
      "5\n"
     ]
    }
   ],
   "source": [
    "# local variable is like variable inside function who is not as the same as variable outside even if they have the same name\n",
    "# Example\n",
    "\n",
    "x=5 # global variable\n",
    "def f():\n",
    "    x=2 # local variable\n",
    "    print(x)\n",
    "f()\n",
    "print(x)\n"
   ]
  },
  {
   "cell_type": "code",
   "execution_count": null,
   "id": "30a6a128",
   "metadata": {},
   "outputs": [],
   "source": []
  }
 ],
 "metadata": {
  "kernelspec": {
   "display_name": "Python 3 (ipykernel)",
   "language": "python",
   "name": "python3"
  },
  "language_info": {
   "codemirror_mode": {
    "name": "ipython",
    "version": 3
   },
   "file_extension": ".py",
   "mimetype": "text/x-python",
   "name": "python",
   "nbconvert_exporter": "python",
   "pygments_lexer": "ipython3",
   "version": "3.10.9"
  }
 },
 "nbformat": 4,
 "nbformat_minor": 5
}
