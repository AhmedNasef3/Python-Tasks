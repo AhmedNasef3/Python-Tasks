{
 "cells": [
  {
   "cell_type": "code",
   "execution_count": null,
   "id": "8e0f5734-ea1f-4efd-92e6-96b80283cf35",
   "metadata": {},
   "outputs": [],
   "source": [
    "x=True\n",
    "y=5\n",
    "z=3.6\n",
    "s=\"Ahmed\"\n",
    "y=float(y)\n",
    "# no we can't\n",
    "lst=[1,2,3,4,5]\n",
    "tpl=(10,11,12,13,14,15)\n",
    "lst=tuple(lst)\n",
    "dic={1:'one',2:'two',3:'three'}\n",
    "\n",
    "\n",
    "# yes we can use semicolon if we want to write to commands in one line\n",
    "# python is interpreted\n",
    "# low level: language that computer understands it (binary)     high level: language the people understand it like python\n",
    "# = for assignement  == for comparison\n",
    "# != means not equal\n",
    "# parantheses then exponentiation then multiplication and division then addition nd subtraction\n",
    "\n",
    "\n",
    "x=10\n",
    "x+=15\n",
    "x/=5\n",
    "x*=10\n",
    "x%=3\n",
    "11%4\n",
    "2**3\n",
    "11/3\n",
    "11//3\n",
    "10 > 15\n",
    "\n",
    "\n",
    "if not x > 15:\n",
    "    print(f\"{x} is smaller than 15\")\n",
    "\n",
    "    \n",
    "# we can use more than one elif\n",
    "# only one else we can use\n",
    "\n",
    "\n",
    "name='Ahmed'\n",
    "print('right') if name=='Ahmed' else print('not right')\n",
    "\n",
    "\n",
    "\n",
    "nums=[2,4,6,8,10]\n",
    "print(4 in nums)\n",
    "print(4 in nums and 6 in nums)\n",
    "print(3 in nums or 6 in nums)\n",
    "print(2 in nums or 4 in nums or 5 in nums)"
   ]
  }
 ],
 "metadata": {
  "kernelspec": {
   "display_name": "Python 3 (ipykernel)",
   "language": "python",
   "name": "python3"
  },
  "language_info": {
   "codemirror_mode": {
    "name": "ipython",
    "version": 3
   },
   "file_extension": ".py",
   "mimetype": "text/x-python",
   "name": "python",
   "nbconvert_exporter": "python",
   "pygments_lexer": "ipython3",
   "version": "3.10.9"
  }
 },
 "nbformat": 4,
 "nbformat_minor": 5
}
