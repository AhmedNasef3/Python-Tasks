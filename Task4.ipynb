{
 "cells": [
  {
   "cell_type": "code",
   "execution_count": 47,
   "id": "74857bfc",
   "metadata": {},
   "outputs": [
    {
     "name": "stdout",
     "output_type": "stream",
     "text": [
      "['MAHMOUD', 'FARIDA', 'ALI', 'HASSAN', 'MOHAMED', 'KHALED', 'TAHA']\n",
      "['MAHMOUD', 'FARIDA', 'ALI', 'HASSAN', 'MOHAMED', 'KHALED', 'TAHA']\n",
      "['MAHMOUD', 'FARIDA', 'ALI', 'HASSAN', 'MOHAMED', 'KHALED', 'TAHA']\n"
     ]
    }
   ],
   "source": [
    "Names=[\"mahmoud\",\"farida\",\"ali\",\"hassan\",\"mohamed\",\"khaled\",\"taha\"]\n",
    "\n",
    "# normal list method\n",
    "result=[]\n",
    "for name in Names:\n",
    "    result.append(name.upper())\n",
    "print(result)\n",
    "\n",
    "#list comprehension method\n",
    "result=[name.upper() for name in Names]\n",
    "print(result)\n",
    "\n",
    "# functional programming\n",
    "result=map(lambda n:n.upper(),Names)\n",
    "print(list(result))\n",
    "    "
   ]
  },
  {
   "cell_type": "code",
   "execution_count": 49,
   "id": "27d9f5ba",
   "metadata": {},
   "outputs": [
    {
     "name": "stdout",
     "output_type": "stream",
     "text": [
      "['mahmoud', 'farida', 'ali', 'hassan', 'mohamed', 'khaled', 'taha']\n",
      "['mahmoud', 'farida', 'ali', 'hassan', 'mohamed', 'khaled', 'taha']\n",
      "['mahmoud', 'farida', 'ali', 'hassan', 'mohamed', 'khaled', 'taha']\n"
     ]
    }
   ],
   "source": [
    "# normal list method\n",
    "result=[]\n",
    "for name in Names:\n",
    "    if 'a' in name:\n",
    "        result.append(name)\n",
    "print(result)\n",
    "    \n",
    "#list comprehension method\n",
    "result=[name for name in Names if 'a' in name]\n",
    "print(result)\n",
    "\n",
    "# functional programming\n",
    "result=filter(lambda n:'a' in n,Names)\n",
    "print(list(result))"
   ]
  },
  {
   "cell_type": "code",
   "execution_count": 50,
   "id": "7b6d4736",
   "metadata": {},
   "outputs": [
    {
     "name": "stdout",
     "output_type": "stream",
     "text": [
      "['taha']\n",
      "['taha']\n",
      "['taha']\n"
     ]
    }
   ],
   "source": [
    "# normal list method\n",
    "result=[]\n",
    "for name in Names:\n",
    "    if name.startswith('t'):\n",
    "        result.append(name)\n",
    "print(result)\n",
    "    \n",
    "#list comprehension method\n",
    "result=[name for name in Names if name.startswith('t')]\n",
    "print(result)\n",
    "\n",
    "# functional programming\n",
    "result=filter(lambda n:n.startswith('t'),Names)\n",
    "print(list(result))"
   ]
  },
  {
   "cell_type": "code",
   "execution_count": 52,
   "id": "fc631f45",
   "metadata": {},
   "outputs": [
    {
     "name": "stdout",
     "output_type": "stream",
     "text": [
      "['farida', 'hassan', 'taha']\n",
      "['farida', 'hassan', 'taha']\n",
      "['farida', 'hassan', 'taha']\n"
     ]
    }
   ],
   "source": [
    "# normal list method\n",
    "result=[]\n",
    "for name in Names:\n",
    "    if name.count('a')>=2:\n",
    "        result.append(name)\n",
    "print(result)\n",
    "    \n",
    "#list comprehension method\n",
    "result=[name for name in Names if name.count('a')>=2]\n",
    "print(result)\n",
    "\n",
    "# functional programming\n",
    "result=filter(lambda n:n.count('a')>=2,Names)\n",
    "print(list(result))"
   ]
  },
  {
   "cell_type": "code",
   "execution_count": 53,
   "id": "0830ab29",
   "metadata": {},
   "outputs": [
    {
     "name": "stdout",
     "output_type": "stream",
     "text": [
      "mahmoud\n",
      "['farida', 'ali', 'hassan', 'mohamed', 'khaled', 'taha']\n",
      "mahmoud\n",
      "taha\n",
      "mahmoud\n",
      "farida\n"
     ]
    }
   ],
   "source": [
    "a,*b=Names\n",
    "print(a)\n",
    "print(b)\n",
    "\n",
    "a,*_,b=Names\n",
    "print(a)\n",
    "print(b)\n",
    "\n",
    "a,b,*_=Names\n",
    "print(a)\n",
    "print(b)"
   ]
  }
 ],
 "metadata": {
  "kernelspec": {
   "display_name": "Python 3 (ipykernel)",
   "language": "python",
   "name": "python3"
  },
  "language_info": {
   "codemirror_mode": {
    "name": "ipython",
    "version": 3
   },
   "file_extension": ".py",
   "mimetype": "text/x-python",
   "name": "python",
   "nbconvert_exporter": "python",
   "pygments_lexer": "ipython3",
   "version": "3.10.9"
  }
 },
 "nbformat": 4,
 "nbformat_minor": 5
}
