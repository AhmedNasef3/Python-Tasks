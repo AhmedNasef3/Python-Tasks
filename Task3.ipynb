{
 "cells": [
  {
   "cell_type": "code",
   "execution_count": 1,
   "id": "7a8eee1a",
   "metadata": {},
   "outputs": [
    {
     "name": "stdout",
     "output_type": "stream",
     "text": [
      "Even numbers: [2, 4, 6, 8]\n",
      "Odd numbers: [1, 3, 5, 7, 9]\n"
     ]
    }
   ],
   "source": [
    "def even_odd_list(lst):\n",
    "    \n",
    "    even_nums=[]\n",
    "    odd_nums=[]\n",
    "    \n",
    "    for num in lst:\n",
    "        if num%2==0:\n",
    "            even_nums.append(num)\n",
    "        else:\n",
    "            odd_nums.append(num)\n",
    "            \n",
    "    print(f\"Even numbers: {even_nums}\")\n",
    "    print(f\"Odd numbers: {odd_nums}\")\n",
    "    \n",
    "even_odd_list([1,2,3,4,5,6,7,8,9])"
   ]
  },
  {
   "cell_type": "code",
   "execution_count": 2,
   "id": "a291b863",
   "metadata": {},
   "outputs": [
    {
     "name": "stdout",
     "output_type": "stream",
     "text": [
      "Ahmed Wael is a Good person\n",
      "The number of unique words is: 6\n"
     ]
    }
   ],
   "source": [
    "def unique_sentence(sentence):\n",
    "    unique_lst=[]\n",
    "    lst=sentence.split()\n",
    "    for word in lst:\n",
    "        if word not in unique_lst:\n",
    "            unique_lst.append(word)\n",
    "    unique_sent=\" \".join(unique_lst)\n",
    "    print(unique_sent)\n",
    "    print(f\"The number of unique words is: {len(unique_lst)}\")\n",
    "\n",
    "unique_sentence(\"Ahmed Wael Ahmed is a Wael Good person person Good\")\n",
    "        "
   ]
  },
  {
   "cell_type": "code",
   "execution_count": 3,
   "id": "2200fde8",
   "metadata": {},
   "outputs": [
    {
     "name": "stdout",
     "output_type": "stream",
     "text": [
      "0 1 2 3 4 5 6 7 8 9 10 "
     ]
    }
   ],
   "source": [
    "def print_nums(num):\n",
    "    for num in range(num+1):\n",
    "        print(num,end=' ')\n",
    "        \n",
    "print_nums(10)"
   ]
  },
  {
   "cell_type": "code",
   "execution_count": 4,
   "id": "f71a9f00",
   "metadata": {},
   "outputs": [
    {
     "name": "stdout",
     "output_type": "stream",
     "text": [
      "1 2 4 5 "
     ]
    }
   ],
   "source": [
    "def divisible_nums1(num1,num2):\n",
    "    for i in range(1,num1+1):\n",
    "        if num2%i==0:\n",
    "            print(i,end=' ')\n",
    "    \n",
    "divisible_nums1(5,20)"
   ]
  },
  {
   "cell_type": "code",
   "execution_count": 5,
   "id": "0ff1e3c6",
   "metadata": {},
   "outputs": [
    {
     "name": "stdout",
     "output_type": "stream",
     "text": [
      "1 2 5 10 "
     ]
    }
   ],
   "source": [
    "def divisible_nums2(num1,num2):\n",
    "    for i in range(1,101):\n",
    "        if num1%i==0 and num2%i==0:\n",
    "            print(i,end=' ')\n",
    "            \n",
    "divisible_nums2(50,10)"
   ]
  },
  {
   "cell_type": "code",
   "execution_count": 6,
   "id": "14e730b9",
   "metadata": {},
   "outputs": [
    {
     "name": "stdout",
     "output_type": "stream",
     "text": [
      "Welcome to our application, choose one of the following games:\n",
      "        1) press 1 to split list of numbers to even and odd lists\n",
      "        2) press 2 to make a sentence unique and count number of unique words\n",
      "        3) press 3 to print a specific range of numbers\n",
      "        4) press 4 to print numbers that divisible by num2\n",
      "        5) press 5 to print numbers that divisible by num1 and num2\n",
      "        6) press x for exit\n"
     ]
    },
    {
     "name": "stdin",
     "output_type": "stream",
     "text": [
      "choose a game from 1 to 5 or x to exit:  1\n",
      "Enter the number of elements:  5\n",
      "Enter a number:  3\n",
      "Enter a number:  2\n",
      "Enter a number:  4\n",
      "Enter a number:  1\n",
      "Enter a number:  7\n"
     ]
    },
    {
     "name": "stdout",
     "output_type": "stream",
     "text": [
      "Even numbers: [2, 4]\n",
      "Odd numbers: [3, 1, 7]\n"
     ]
    },
    {
     "name": "stdin",
     "output_type": "stream",
     "text": [
      "press y if you want to play again or n if you don't:  n\n"
     ]
    },
    {
     "name": "stdout",
     "output_type": "stream",
     "text": [
      "GoodBye\n"
     ]
    }
   ],
   "source": [
    "class Game:\n",
    "    \n",
    "    def __init__(self):\n",
    "            \n",
    "        while True:\n",
    "        \n",
    "            print('''Welcome to our application, choose one of the following games:\n",
    "        1) press 1 to split list of numbers to even and odd lists\n",
    "        2) press 2 to make a sentence unique and count number of unique words\n",
    "        3) press 3 to print a specific range of numbers\n",
    "        4) press 4 to print numbers that divisible by num2\n",
    "        5) press 5 to print numbers that divisible by num1 and num2\n",
    "        6) press x for exit''')\n",
    "\n",
    "            option=input(\"choose a game from 1 to 5 or x to exit: \").lower()\n",
    "\n",
    "            if option=='1':\n",
    "                lst=[]\n",
    "                n=int(input(\"Enter the number of elements: \"))\n",
    "                \n",
    "                \n",
    "                for i in range(n):\n",
    "                    num=int(input(\"Enter a number: \"))\n",
    "                    lst.append(num)\n",
    "                \n",
    "                self.even_odd_list(lst)\n",
    "\n",
    "            elif option=='2':\n",
    "                sen=input(\"Enter a sentence: \")\n",
    "                self.unique_sentence(sen)\n",
    "\n",
    "            elif option=='3':\n",
    "                num=int(input(\"Enter a number: \"))\n",
    "                self.print_nums(num)\n",
    "\n",
    "            elif option=='4':\n",
    "                n1=int(input(\"Enter the first number: \"))\n",
    "                n2=int(input(\"Enter the second number: \"))\n",
    "                self.divisible_nums1(n1,n2)\n",
    "\n",
    "            elif option=='5':\n",
    "                n1=int(input(\"Enter the first number: \"))\n",
    "                n2=int(input(\"Enter the second number: \"))\n",
    "                self.divisible_nums2(n1,n2)\n",
    "            \n",
    "            elif option=='x':\n",
    "                break\n",
    "                \n",
    "            else:\n",
    "                print(\"Wrong option, please try again.\")\n",
    "                \n",
    "            \n",
    "            choice=input(\"press y if you want to play again or n if you don't: \").lower()\n",
    "            \n",
    "            if choice!='y':\n",
    "                print('GoodBye')\n",
    "                break\n",
    "            \n",
    "\n",
    "       \n",
    "    \n",
    "    def even_odd_list(self,lst):\n",
    "        even_nums=[]\n",
    "        odd_nums=[]\n",
    "\n",
    "        for num in lst:\n",
    "            if num%2==0:\n",
    "                even_nums.append(num)\n",
    "            else:\n",
    "                odd_nums.append(num)\n",
    "\n",
    "        print(f\"Even numbers: {even_nums}\")\n",
    "        print(f\"Odd numbers: {odd_nums}\")\n",
    "\n",
    "    \n",
    "    def unique_sentence(self,sentence):\n",
    "        unique_lst=[]\n",
    "        lst=sentence.split()\n",
    "        for word in lst:\n",
    "            if word not in unique_lst:\n",
    "                unique_lst.append(word)\n",
    "        unique_sent=\" \".join(unique_lst)\n",
    "        print(unique_sent)\n",
    "        print(f\"The number of unique words is: {len(unique_lst)}\")\n",
    "    \n",
    "    \n",
    "    def print_nums(self,num):\n",
    "        for num in range(num+1):\n",
    "            print(num,end=' ')\n",
    "        \n",
    "    \n",
    "    def divisible_nums1(self,num1,num2):\n",
    "        for i in range(1,num1+1):\n",
    "            if num2%i==0:\n",
    "                print(i,end=' ')\n",
    "\n",
    "    \n",
    "    def divisible_nums2(self,num1,num2):\n",
    "        for i in range(1,101):\n",
    "            if num1%i==0 and num2%i==0:\n",
    "                print(i,end=' ')\n",
    "\n",
    "\n",
    "    \n",
    "p1=Game()\n",
    "    \n",
    "    "
   ]
  }
 ],
 "metadata": {
  "kernelspec": {
   "display_name": "Python 3 (ipykernel)",
   "language": "python",
   "name": "python3"
  },
  "language_info": {
   "codemirror_mode": {
    "name": "ipython",
    "version": 3
   },
   "file_extension": ".py",
   "mimetype": "text/x-python",
   "name": "python",
   "nbconvert_exporter": "python",
   "pygments_lexer": "ipython3",
   "version": "3.10.9"
  }
 },
 "nbformat": 4,
 "nbformat_minor": 5
}
